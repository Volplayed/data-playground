{
 "cells": [
  {
   "cell_type": "code",
   "execution_count": 1,
   "id": "6ffd2f67",
   "metadata": {
    "execution": {
     "iopub.execute_input": "2023-07-25T08:14:44.302478Z",
     "iopub.status.busy": "2023-07-25T08:14:44.301795Z",
     "iopub.status.idle": "2023-07-25T08:14:59.231941Z",
     "shell.execute_reply": "2023-07-25T08:14:59.230672Z"
    },
    "papermill": {
     "duration": 14.941989,
     "end_time": "2023-07-25T08:14:59.234570",
     "exception": false,
     "start_time": "2023-07-25T08:14:44.292581",
     "status": "completed"
    },
    "tags": []
   },
   "outputs": [
    {
     "name": "stdout",
     "output_type": "stream",
     "text": [
      "Looking in links: file:///kaggle/input/pip-packages-icr/pip-packages\r\n",
      "Processing /kaggle/input/pip-packages-icr/pip-packages/tabpfn-0.1.9-py3-none-any.whl\r\n",
      "Requirement already satisfied: numpy>=1.21.2 in /opt/conda/lib/python3.10/site-packages (from tabpfn) (1.23.5)\r\n",
      "Requirement already satisfied: scikit-learn>=0.24.2 in /opt/conda/lib/python3.10/site-packages (from tabpfn) (1.2.2)\r\n",
      "Requirement already satisfied: pyyaml>=5.4.1 in /opt/conda/lib/python3.10/site-packages (from tabpfn) (6.0)\r\n",
      "Requirement already satisfied: requests>=2.23.0 in /opt/conda/lib/python3.10/site-packages (from tabpfn) (2.28.2)\r\n",
      "Requirement already satisfied: torch>=1.9.0 in /opt/conda/lib/python3.10/site-packages (from tabpfn) (2.0.0)\r\n",
      "Requirement already satisfied: idna<4,>=2.5 in /opt/conda/lib/python3.10/site-packages (from requests>=2.23.0->tabpfn) (3.4)\r\n",
      "Requirement already satisfied: urllib3<1.27,>=1.21.1 in /opt/conda/lib/python3.10/site-packages (from requests>=2.23.0->tabpfn) (1.26.15)\r\n",
      "Requirement already satisfied: certifi>=2017.4.17 in /opt/conda/lib/python3.10/site-packages (from requests>=2.23.0->tabpfn) (2022.12.7)\r\n",
      "Requirement already satisfied: charset-normalizer<4,>=2 in /opt/conda/lib/python3.10/site-packages (from requests>=2.23.0->tabpfn) (2.1.1)\r\n",
      "Requirement already satisfied: threadpoolctl>=2.0.0 in /opt/conda/lib/python3.10/site-packages (from scikit-learn>=0.24.2->tabpfn) (3.1.0)\r\n",
      "Requirement already satisfied: scipy>=1.3.2 in /opt/conda/lib/python3.10/site-packages (from scikit-learn>=0.24.2->tabpfn) (1.9.3)\r\n",
      "Requirement already satisfied: joblib>=1.1.1 in /opt/conda/lib/python3.10/site-packages (from scikit-learn>=0.24.2->tabpfn) (1.2.0)\r\n",
      "Requirement already satisfied: networkx in /opt/conda/lib/python3.10/site-packages (from torch>=1.9.0->tabpfn) (3.1)\r\n",
      "Requirement already satisfied: filelock in /opt/conda/lib/python3.10/site-packages (from torch>=1.9.0->tabpfn) (3.11.0)\r\n",
      "Requirement already satisfied: jinja2 in /opt/conda/lib/python3.10/site-packages (from torch>=1.9.0->tabpfn) (3.1.2)\r\n",
      "Requirement already satisfied: sympy in /opt/conda/lib/python3.10/site-packages (from torch>=1.9.0->tabpfn) (1.11.1)\r\n",
      "Requirement already satisfied: typing-extensions in /opt/conda/lib/python3.10/site-packages (from torch>=1.9.0->tabpfn) (4.5.0)\r\n",
      "Requirement already satisfied: MarkupSafe>=2.0 in /opt/conda/lib/python3.10/site-packages (from jinja2->torch>=1.9.0->tabpfn) (2.1.2)\r\n",
      "Requirement already satisfied: mpmath>=0.19 in /opt/conda/lib/python3.10/site-packages (from sympy->torch>=1.9.0->tabpfn) (1.3.0)\r\n",
      "Installing collected packages: tabpfn\r\n",
      "Successfully installed tabpfn-0.1.9\r\n",
      "\u001b[33mWARNING: Running pip as the 'root' user can result in broken permissions and conflicting behaviour with the system package manager. It is recommended to use a virtual environment instead: https://pip.pypa.io/warnings/venv\u001b[0m\u001b[33m\r\n",
      "\u001b[0m"
     ]
    }
   ],
   "source": [
    "#!pip install tabpfn --no-index --find-links=file:///kaggle/input/pip-packages-icr/pip-packages\n",
    "#!mkdir -p /opt/conda/lib/python3.10/site-packages/tabpfn/models_diff\n",
    "#!cp /kaggle/input/pip-packages-icr/pip-packages/prior_diff_real_checkpoint_n_0_epoch_100.cpkt /opt/conda/lib/python3.10/site-packages/tabpfn/models_diff/"
   ]
  },
  {
   "cell_type": "code",
   "execution_count": 2,
   "id": "7a7e0465",
   "metadata": {
    "_cell_guid": "b1076dfc-b9ad-4769-8c92-a6c4dae69d19",
    "_uuid": "8f2839f25d086af736a60e9eeb907d3b93b6e0e5",
    "execution": {
     "iopub.execute_input": "2023-07-25T08:14:59.248510Z",
     "iopub.status.busy": "2023-07-25T08:14:59.247741Z",
     "iopub.status.idle": "2023-07-25T08:15:04.291153Z",
     "shell.execute_reply": "2023-07-25T08:15:04.290170Z"
    },
    "papermill": {
     "duration": 5.053122,
     "end_time": "2023-07-25T08:15:04.293869",
     "exception": false,
     "start_time": "2023-07-25T08:14:59.240747",
     "status": "completed"
    },
    "tags": []
   },
   "outputs": [
    {
     "name": "stderr",
     "output_type": "stream",
     "text": [
      "/opt/conda/lib/python3.10/site-packages/scipy/__init__.py:146: UserWarning: A NumPy version >=1.16.5 and <1.23.0 is required for this version of SciPy (detected version 1.23.5\n",
      "  warnings.warn(f\"A NumPy version >={np_minversion} and <{np_maxversion}\"\n"
     ]
    }
   ],
   "source": [
    "import numpy as np\n",
    "import pandas as pd\n",
    "from sklearn.preprocessing import LabelEncoder,normalize\n",
    "from sklearn.ensemble import GradientBoostingClassifier,RandomForestClassifier\n",
    "from sklearn.metrics import accuracy_score\n",
    "from sklearn.impute import SimpleImputer\n",
    "import imblearn\n",
    "from imblearn.over_sampling import RandomOverSampler\n",
    "from imblearn.under_sampling import RandomUnderSampler\n",
    "import xgboost\n",
    "import inspect\n",
    "from collections import defaultdict\n",
    "from tabpfn import TabPFNClassifier\n",
    "import warnings\n",
    "warnings.filterwarnings('ignore')"
   ]
  },
  {
   "cell_type": "code",
   "execution_count": 3,
   "id": "0bb227be",
   "metadata": {
    "execution": {
     "iopub.execute_input": "2023-07-25T08:15:04.308845Z",
     "iopub.status.busy": "2023-07-25T08:15:04.307624Z",
     "iopub.status.idle": "2023-07-25T08:15:04.365667Z",
     "shell.execute_reply": "2023-07-25T08:15:04.364802Z"
    },
    "papermill": {
     "duration": 0.067933,
     "end_time": "2023-07-25T08:15:04.367803",
     "exception": false,
     "start_time": "2023-07-25T08:15:04.299870",
     "status": "completed"
    },
    "tags": []
   },
   "outputs": [],
   "source": [
    "train = pd.read_csv('/kaggle/input/icr-identify-age-related-conditions/train.csv')\n",
    "test = pd.read_csv('/kaggle/input/icr-identify-age-related-conditions/test.csv')\n",
    "sample = pd.read_csv('/kaggle/input/icr-identify-age-related-conditions/sample_submission.csv')\n",
    "greeks = pd.read_csv('/kaggle/input/icr-identify-age-related-conditions/greeks.csv')"
   ]
  },
  {
   "cell_type": "code",
   "execution_count": 4,
   "id": "14efc6ff",
   "metadata": {
    "execution": {
     "iopub.execute_input": "2023-07-25T08:15:04.380595Z",
     "iopub.status.busy": "2023-07-25T08:15:04.380294Z",
     "iopub.status.idle": "2023-07-25T08:15:04.391426Z",
     "shell.execute_reply": "2023-07-25T08:15:04.390576Z"
    },
    "papermill": {
     "duration": 0.019903,
     "end_time": "2023-07-25T08:15:04.393562",
     "exception": false,
     "start_time": "2023-07-25T08:15:04.373659",
     "status": "completed"
    },
    "tags": []
   },
   "outputs": [],
   "source": [
    "first_category = train.EJ.unique()[0]\n",
    "train.EJ = train.EJ.eq(first_category).astype('int')\n",
    "test.EJ = test.EJ.eq(first_category).astype('int')"
   ]
  },
  {
   "cell_type": "code",
   "execution_count": 5,
   "id": "48148fbb",
   "metadata": {
    "execution": {
     "iopub.execute_input": "2023-07-25T08:15:04.406182Z",
     "iopub.status.busy": "2023-07-25T08:15:04.405910Z",
     "iopub.status.idle": "2023-07-25T08:15:04.411889Z",
     "shell.execute_reply": "2023-07-25T08:15:04.410888Z"
    },
    "papermill": {
     "duration": 0.01488,
     "end_time": "2023-07-25T08:15:04.414222",
     "exception": false,
     "start_time": "2023-07-25T08:15:04.399342",
     "status": "completed"
    },
    "tags": []
   },
   "outputs": [],
   "source": [
    "def random_under_sampler(df):\n",
    "    # Calculate the number of samples for each label. \n",
    "    neg, pos = np.bincount(df['Class'])\n",
    "\n",
    "    # Choose the samples with class label `1`.\n",
    "    one_df = df.loc[df['Class'] == 1] \n",
    "    # Choose the samples with class label `0`.\n",
    "    zero_df = df.loc[df['Class'] == 0]\n",
    "    # Select `pos` number of negative samples.\n",
    "    # This makes sure that we have equal number of samples for each label.\n",
    "    zero_df = zero_df.sample(n=pos)\n",
    "\n",
    "    # Join both label dataframes.\n",
    "    undersampled_df = pd.concat([zero_df, one_df])\n",
    "\n",
    "    # Shuffle the data and return\n",
    "    return undersampled_df.sample(frac = 1)"
   ]
  },
  {
   "cell_type": "code",
   "execution_count": 6,
   "id": "28f9ec90",
   "metadata": {
    "execution": {
     "iopub.execute_input": "2023-07-25T08:15:04.426925Z",
     "iopub.status.busy": "2023-07-25T08:15:04.426668Z",
     "iopub.status.idle": "2023-07-25T08:15:04.435335Z",
     "shell.execute_reply": "2023-07-25T08:15:04.434550Z"
    },
    "papermill": {
     "duration": 0.017368,
     "end_time": "2023-07-25T08:15:04.437469",
     "exception": false,
     "start_time": "2023-07-25T08:15:04.420101",
     "status": "completed"
    },
    "tags": []
   },
   "outputs": [],
   "source": [
    "predictor_columns = [n for n in train.columns if n != 'Class' and n != 'Id']\n",
    "x= train[predictor_columns]\n",
    "y = train['Class']"
   ]
  },
  {
   "cell_type": "code",
   "execution_count": 7,
   "id": "6cc23941",
   "metadata": {
    "execution": {
     "iopub.execute_input": "2023-07-25T08:15:04.450470Z",
     "iopub.status.busy": "2023-07-25T08:15:04.450195Z",
     "iopub.status.idle": "2023-07-25T08:15:04.454862Z",
     "shell.execute_reply": "2023-07-25T08:15:04.453926Z"
    },
    "papermill": {
     "duration": 0.013461,
     "end_time": "2023-07-25T08:15:04.456781",
     "exception": false,
     "start_time": "2023-07-25T08:15:04.443320",
     "status": "completed"
    },
    "tags": []
   },
   "outputs": [],
   "source": [
    "from sklearn.model_selection import KFold as KF, GridSearchCV\n",
    "cv_outer = KF(n_splits = 10, shuffle=True, random_state=42)\n",
    "cv_inner = KF(n_splits = 5, shuffle=True, random_state=42)"
   ]
  },
  {
   "cell_type": "code",
   "execution_count": 8,
   "id": "0b48d44d",
   "metadata": {
    "execution": {
     "iopub.execute_input": "2023-07-25T08:15:04.470218Z",
     "iopub.status.busy": "2023-07-25T08:15:04.469429Z",
     "iopub.status.idle": "2023-07-25T08:15:04.476196Z",
     "shell.execute_reply": "2023-07-25T08:15:04.475395Z"
    },
    "papermill": {
     "duration": 0.015483,
     "end_time": "2023-07-25T08:15:04.478201",
     "exception": false,
     "start_time": "2023-07-25T08:15:04.462718",
     "status": "completed"
    },
    "tags": []
   },
   "outputs": [],
   "source": [
    "def balanced_log_loss(y_true, y_pred):\n",
    "    # y_true: correct labels 0, 1\n",
    "    # y_pred: predicted probabilities of class=1\n",
    "    # calculate the number of observations for each class\n",
    "    N_0 = np.sum(1 - y_true)\n",
    "    N_1 = np.sum(y_true)\n",
    "    # calculate the weights for each class to balance classes\n",
    "    w_0 = 1 / N_0\n",
    "    w_1 = 1 / N_1\n",
    "    # calculate the predicted probabilities for each class\n",
    "    p_1 = np.clip(y_pred, 1e-15, 1 - 1e-15)\n",
    "    p_0 = 1 - p_1\n",
    "    # calculate the summed log loss for each class\n",
    "    log_loss_0 = -np.sum((1 - y_true) * np.log(p_0))\n",
    "    log_loss_1 = -np.sum(y_true * np.log(p_1))\n",
    "    # calculate the weighted summed logarithmic loss\n",
    "    # (factgor of 2 included to give same result as LL with balanced input)\n",
    "    balanced_log_loss = 2*(w_0 * log_loss_0 + w_1 * log_loss_1) / (w_0 + w_1)\n",
    "    # return the average log loss\n",
    "    return balanced_log_loss/(N_0+N_1)"
   ]
  },
  {
   "cell_type": "code",
   "execution_count": 9,
   "id": "a85d715a",
   "metadata": {
    "execution": {
     "iopub.execute_input": "2023-07-25T08:15:04.492248Z",
     "iopub.status.busy": "2023-07-25T08:15:04.490905Z",
     "iopub.status.idle": "2023-07-25T08:15:04.502536Z",
     "shell.execute_reply": "2023-07-25T08:15:04.501730Z"
    },
    "papermill": {
     "duration": 0.020407,
     "end_time": "2023-07-25T08:15:04.504491",
     "exception": false,
     "start_time": "2023-07-25T08:15:04.484084",
     "status": "completed"
    },
    "tags": []
   },
   "outputs": [],
   "source": [
    "class Ensemble():\n",
    "    def __init__(self):\n",
    "        self.imputer = SimpleImputer(missing_values=np.nan, strategy='median')\n",
    "\n",
    "        self.classifiers =[xgboost.XGBClassifier(n_estimators=100,max_depth=3,learning_rate=0.2,subsample=0.9,colsample_bytree=0.85),\n",
    "                           xgboost.XGBClassifier(),\n",
    "                           TabPFNClassifier(N_ensemble_configurations=24),\n",
    "                          TabPFNClassifier(N_ensemble_configurations=64)]\n",
    "    \n",
    "    def fit(self,X,y):\n",
    "        y = y.values\n",
    "        unique_classes, y = np.unique(y, return_inverse=True)\n",
    "        self.classes_ = unique_classes\n",
    "        first_category = X.EJ.unique()[0]\n",
    "        X.EJ = X.EJ.eq(first_category).astype('int')\n",
    "        X = self.imputer.fit_transform(X)\n",
    "\n",
    "        for classifier in self.classifiers:\n",
    "            if classifier==self.classifiers[2] or classifier==self.classifiers[3]:\n",
    "                classifier.fit(X,y,overwrite_warning =True)\n",
    "            else :\n",
    "                classifier.fit(X, y)\n",
    "     \n",
    "    def predict_proba(self, x):\n",
    "        x = self.imputer.transform(x)\n",
    "\n",
    "        probabilities = np.stack([classifier.predict_proba(x) for classifier in self.classifiers])\n",
    "        averaged_probabilities = np.mean(probabilities, axis=0)\n",
    "        class_0_est_instances = averaged_probabilities[:, 0].sum()\n",
    "        others_est_instances = averaged_probabilities[:, 1:].sum()\n",
    "        # Weighted probabilities based on class imbalance\n",
    "        new_probabilities = averaged_probabilities * np.array([[1/(class_0_est_instances if i==0 else others_est_instances) for i in range(averaged_probabilities.shape[1])]])\n",
    "        return new_probabilities / np.sum(new_probabilities, axis=1, keepdims=1) "
   ]
  },
  {
   "cell_type": "code",
   "execution_count": 10,
   "id": "bf2c44d5",
   "metadata": {
    "execution": {
     "iopub.execute_input": "2023-07-25T08:15:04.517804Z",
     "iopub.status.busy": "2023-07-25T08:15:04.517272Z",
     "iopub.status.idle": "2023-07-25T08:15:04.605836Z",
     "shell.execute_reply": "2023-07-25T08:15:04.604985Z"
    },
    "papermill": {
     "duration": 0.097639,
     "end_time": "2023-07-25T08:15:04.608178",
     "exception": false,
     "start_time": "2023-07-25T08:15:04.510539",
     "status": "completed"
    },
    "tags": []
   },
   "outputs": [],
   "source": [
    "from tqdm.notebook import tqdm"
   ]
  },
  {
   "cell_type": "code",
   "execution_count": 11,
   "id": "aca9a27f",
   "metadata": {
    "execution": {
     "iopub.execute_input": "2023-07-25T08:15:04.621436Z",
     "iopub.status.busy": "2023-07-25T08:15:04.621165Z",
     "iopub.status.idle": "2023-07-25T08:15:04.631473Z",
     "shell.execute_reply": "2023-07-25T08:15:04.630673Z"
    },
    "papermill": {
     "duration": 0.019043,
     "end_time": "2023-07-25T08:15:04.633443",
     "exception": false,
     "start_time": "2023-07-25T08:15:04.614400",
     "status": "completed"
    },
    "tags": []
   },
   "outputs": [],
   "source": [
    "def training(model, x,y,y_meta):\n",
    "    outer_results = list()\n",
    "    best_loss = np.inf\n",
    "    split = 0\n",
    "    splits = 5\n",
    "    for train_idx,val_idx in tqdm(cv_inner.split(x), total = splits):\n",
    "        split+=1\n",
    "        x_train, x_val = x.iloc[train_idx],x.iloc[val_idx]\n",
    "        y_train, y_val = y_meta.iloc[train_idx], y.iloc[val_idx]\n",
    "                \n",
    "        model.fit(x_train, y_train)\n",
    "        y_pred = model.predict_proba(x_val)\n",
    "        probabilities = np.concatenate((y_pred[:,:1], np.sum(y_pred[:,1:], 1, keepdims=True)), axis=1)\n",
    "        p0 = probabilities[:,:1]\n",
    "        p0[p0 > 0.86] = 1\n",
    "        p0[p0 < 0.14] = 0\n",
    "        y_p = np.empty((y_pred.shape[0],))\n",
    "        for i in range(y_pred.shape[0]):\n",
    "            if p0[i]>=0.5:\n",
    "                y_p[i]= False\n",
    "            else :\n",
    "                y_p[i]=True\n",
    "        y_p = y_p.astype(int)\n",
    "        loss = balanced_log_loss(y_val,y_p)\n",
    "\n",
    "        if loss<best_loss:\n",
    "            best_model = model\n",
    "            best_loss = loss\n",
    "            print('best_model_saved')\n",
    "        outer_results.append(loss)\n",
    "        print('>val_loss=%.5f, split = %.1f' % (loss,split))\n",
    "    print('LOSS: %.5f' % (np.mean(outer_results)))\n",
    "    return best_model\n",
    "    "
   ]
  },
  {
   "cell_type": "code",
   "execution_count": 12,
   "id": "713b1616",
   "metadata": {
    "execution": {
     "iopub.execute_input": "2023-07-25T08:15:04.646680Z",
     "iopub.status.busy": "2023-07-25T08:15:04.646419Z",
     "iopub.status.idle": "2023-07-25T08:15:04.664760Z",
     "shell.execute_reply": "2023-07-25T08:15:04.663935Z"
    },
    "papermill": {
     "duration": 0.027218,
     "end_time": "2023-07-25T08:15:04.666745",
     "exception": false,
     "start_time": "2023-07-25T08:15:04.639527",
     "status": "completed"
    },
    "tags": []
   },
   "outputs": [],
   "source": [
    "from datetime import datetime\n",
    "times = greeks.Epsilon.copy()\n",
    "times[greeks.Epsilon != 'Unknown'] = greeks.Epsilon[greeks.Epsilon != 'Unknown'].map(lambda x: datetime.strptime(x,'%m/%d/%Y').toordinal())\n",
    "times[greeks.Epsilon == 'Unknown'] = np.nan"
   ]
  },
  {
   "cell_type": "code",
   "execution_count": 13,
   "id": "fc032007",
   "metadata": {
    "execution": {
     "iopub.execute_input": "2023-07-25T08:15:04.680762Z",
     "iopub.status.busy": "2023-07-25T08:15:04.679940Z",
     "iopub.status.idle": "2023-07-25T08:15:04.689315Z",
     "shell.execute_reply": "2023-07-25T08:15:04.688517Z"
    },
    "papermill": {
     "duration": 0.018425,
     "end_time": "2023-07-25T08:15:04.691321",
     "exception": false,
     "start_time": "2023-07-25T08:15:04.672896",
     "status": "completed"
    },
    "tags": []
   },
   "outputs": [],
   "source": [
    "train_pred_and_time = pd.concat((train, times), axis=1)\n",
    "test_predictors = test[predictor_columns]\n",
    "first_category = test_predictors.EJ.unique()[0]\n",
    "test_predictors.EJ = test_predictors.EJ.eq(first_category).astype('int')\n",
    "test_pred_and_time = np.concatenate((test_predictors, np.zeros((len(test_predictors), 1)) + train_pred_and_time.Epsilon.max() + 1), axis=1)"
   ]
  },
  {
   "cell_type": "code",
   "execution_count": 14,
   "id": "5b236ae5",
   "metadata": {
    "execution": {
     "iopub.execute_input": "2023-07-25T08:15:04.705421Z",
     "iopub.status.busy": "2023-07-25T08:15:04.704690Z",
     "iopub.status.idle": "2023-07-25T08:15:04.739594Z",
     "shell.execute_reply": "2023-07-25T08:15:04.738215Z"
    },
    "papermill": {
     "duration": 0.044035,
     "end_time": "2023-07-25T08:15:04.741652",
     "exception": false,
     "start_time": "2023-07-25T08:15:04.697617",
     "status": "completed"
    },
    "tags": []
   },
   "outputs": [
    {
     "name": "stdout",
     "output_type": "stream",
     "text": [
      "Original dataset shape\n",
      "A    509\n",
      "B     61\n",
      "G     29\n",
      "D     18\n",
      "Name: Alpha, dtype: int64\n",
      "Resample dataset shape\n",
      "B    509\n",
      "A    509\n",
      "D    509\n",
      "G    509\n",
      "Name: Alpha, dtype: int64\n"
     ]
    }
   ],
   "source": [
    "ros = RandomOverSampler(random_state=42)\n",
    "\n",
    "train_ros, y_ros = ros.fit_resample(train_pred_and_time, greeks.Alpha)\n",
    "print('Original dataset shape')\n",
    "print(greeks.Alpha.value_counts())\n",
    "print('Resample dataset shape')\n",
    "print( y_ros.value_counts())"
   ]
  },
  {
   "cell_type": "code",
   "execution_count": 15,
   "id": "7bca9b49",
   "metadata": {
    "execution": {
     "iopub.execute_input": "2023-07-25T08:15:04.755554Z",
     "iopub.status.busy": "2023-07-25T08:15:04.755271Z",
     "iopub.status.idle": "2023-07-25T08:15:04.762894Z",
     "shell.execute_reply": "2023-07-25T08:15:04.762034Z"
    },
    "papermill": {
     "duration": 0.016742,
     "end_time": "2023-07-25T08:15:04.764863",
     "exception": false,
     "start_time": "2023-07-25T08:15:04.748121",
     "status": "completed"
    },
    "tags": []
   },
   "outputs": [],
   "source": [
    "x_ros = train_ros.drop(['Class', 'Id'],axis=1)\n",
    "y_ = train_ros.Class"
   ]
  },
  {
   "cell_type": "code",
   "execution_count": 16,
   "id": "d2340784",
   "metadata": {
    "execution": {
     "iopub.execute_input": "2023-07-25T08:15:04.779257Z",
     "iopub.status.busy": "2023-07-25T08:15:04.778528Z",
     "iopub.status.idle": "2023-07-25T08:15:05.526613Z",
     "shell.execute_reply": "2023-07-25T08:15:05.525416Z"
    },
    "papermill": {
     "duration": 0.757664,
     "end_time": "2023-07-25T08:15:05.528982",
     "exception": false,
     "start_time": "2023-07-25T08:15:04.771318",
     "status": "completed"
    },
    "tags": []
   },
   "outputs": [
    {
     "name": "stdout",
     "output_type": "stream",
     "text": [
      "Loading model that can be used for inference only\n",
      "Using a Transformer with 25.82 M parameters\n",
      "Loading model that can be used for inference only\n",
      "Using a Transformer with 25.82 M parameters\n"
     ]
    }
   ],
   "source": [
    "yt = Ensemble()"
   ]
  },
  {
   "cell_type": "code",
   "execution_count": 17,
   "id": "ceafe3e0",
   "metadata": {
    "execution": {
     "iopub.execute_input": "2023-07-25T08:15:05.544420Z",
     "iopub.status.busy": "2023-07-25T08:15:05.544113Z",
     "iopub.status.idle": "2023-07-25T08:43:51.472257Z",
     "shell.execute_reply": "2023-07-25T08:43:51.471223Z"
    },
    "papermill": {
     "duration": 1725.947673,
     "end_time": "2023-07-25T08:43:51.483596",
     "exception": false,
     "start_time": "2023-07-25T08:15:05.535923",
     "status": "completed"
    },
    "tags": []
   },
   "outputs": [
    {
     "data": {
      "application/vnd.jupyter.widget-view+json": {
       "model_id": "29d505216d994d10a569502ed05d6584",
       "version_major": 2,
       "version_minor": 0
      },
      "text/plain": [
       "  0%|          | 0/5 [00:00<?, ?it/s]"
      ]
     },
     "metadata": {},
     "output_type": "display_data"
    },
    {
     "name": "stdout",
     "output_type": "stream",
     "text": [
      "best_model_saved\n",
      ">val_loss=0.12283, split = 1.0\n"
     ]
    },
    {
     "name": "stderr",
     "output_type": "stream",
     "text": [
      "/tmp/ipykernel_23/1190947014.py:15: SettingWithCopyWarning: \n",
      "A value is trying to be set on a copy of a slice from a DataFrame.\n",
      "Try using .loc[row_indexer,col_indexer] = value instead\n",
      "\n",
      "See the caveats in the documentation: https://pandas.pydata.org/pandas-docs/stable/user_guide/indexing.html#returning-a-view-versus-a-copy\n",
      "  X.EJ = X.EJ.eq(first_category).astype('int')\n"
     ]
    },
    {
     "name": "stdout",
     "output_type": "stream",
     "text": [
      "best_model_saved\n",
      ">val_loss=0.00000, split = 2.0\n"
     ]
    },
    {
     "name": "stderr",
     "output_type": "stream",
     "text": [
      "/tmp/ipykernel_23/1190947014.py:15: SettingWithCopyWarning: \n",
      "A value is trying to be set on a copy of a slice from a DataFrame.\n",
      "Try using .loc[row_indexer,col_indexer] = value instead\n",
      "\n",
      "See the caveats in the documentation: https://pandas.pydata.org/pandas-docs/stable/user_guide/indexing.html#returning-a-view-versus-a-copy\n",
      "  X.EJ = X.EJ.eq(first_category).astype('int')\n"
     ]
    },
    {
     "name": "stdout",
     "output_type": "stream",
     "text": [
      ">val_loss=0.00000, split = 3.0\n"
     ]
    },
    {
     "name": "stderr",
     "output_type": "stream",
     "text": [
      "/tmp/ipykernel_23/1190947014.py:15: SettingWithCopyWarning: \n",
      "A value is trying to be set on a copy of a slice from a DataFrame.\n",
      "Try using .loc[row_indexer,col_indexer] = value instead\n",
      "\n",
      "See the caveats in the documentation: https://pandas.pydata.org/pandas-docs/stable/user_guide/indexing.html#returning-a-view-versus-a-copy\n",
      "  X.EJ = X.EJ.eq(first_category).astype('int')\n"
     ]
    },
    {
     "name": "stdout",
     "output_type": "stream",
     "text": [
      "best_model_saved\n",
      ">val_loss=0.00000, split = 4.0\n"
     ]
    },
    {
     "name": "stderr",
     "output_type": "stream",
     "text": [
      "/tmp/ipykernel_23/1190947014.py:15: SettingWithCopyWarning: \n",
      "A value is trying to be set on a copy of a slice from a DataFrame.\n",
      "Try using .loc[row_indexer,col_indexer] = value instead\n",
      "\n",
      "See the caveats in the documentation: https://pandas.pydata.org/pandas-docs/stable/user_guide/indexing.html#returning-a-view-versus-a-copy\n",
      "  X.EJ = X.EJ.eq(first_category).astype('int')\n"
     ]
    },
    {
     "name": "stdout",
     "output_type": "stream",
     "text": [
      ">val_loss=0.13386, split = 5.0\n",
      "LOSS: 0.05134\n"
     ]
    }
   ],
   "source": [
    "m = training(yt,x_ros,y_,y_ros)"
   ]
  },
  {
   "cell_type": "code",
   "execution_count": 18,
   "id": "5e771954",
   "metadata": {
    "execution": {
     "iopub.execute_input": "2023-07-25T08:43:51.500616Z",
     "iopub.status.busy": "2023-07-25T08:43:51.500052Z",
     "iopub.status.idle": "2023-07-25T08:43:51.509679Z",
     "shell.execute_reply": "2023-07-25T08:43:51.508684Z"
    },
    "papermill": {
     "duration": 0.020844,
     "end_time": "2023-07-25T08:43:51.512281",
     "exception": false,
     "start_time": "2023-07-25T08:43:51.491437",
     "status": "completed"
    },
    "tags": []
   },
   "outputs": [
    {
     "data": {
      "text/plain": [
       "1    0.75\n",
       "0    0.25\n",
       "Name: Class, dtype: float64"
      ]
     },
     "execution_count": 18,
     "metadata": {},
     "output_type": "execute_result"
    }
   ],
   "source": [
    "y_.value_counts()/y_.shape[0]"
   ]
  },
  {
   "cell_type": "code",
   "execution_count": 19,
   "id": "9dbee5b1",
   "metadata": {
    "execution": {
     "iopub.execute_input": "2023-07-25T08:43:51.530306Z",
     "iopub.status.busy": "2023-07-25T08:43:51.528958Z",
     "iopub.status.idle": "2023-07-25T08:48:33.827417Z",
     "shell.execute_reply": "2023-07-25T08:48:33.826194Z"
    },
    "papermill": {
     "duration": 282.310481,
     "end_time": "2023-07-25T08:48:33.830703",
     "exception": false,
     "start_time": "2023-07-25T08:43:51.520222",
     "status": "completed"
    },
    "tags": []
   },
   "outputs": [
    {
     "name": "stderr",
     "output_type": "stream",
     "text": [
      "/opt/conda/lib/python3.10/site-packages/sklearn/base.py:439: UserWarning: X does not have valid feature names, but SimpleImputer was fitted with feature names\n",
      "  warnings.warn(\n"
     ]
    }
   ],
   "source": [
    "y_pred = m.predict_proba(test_pred_and_time)\n",
    "probabilities = np.concatenate((y_pred[:,:1], np.sum(y_pred[:,1:], 1, keepdims=True)), axis=1)\n",
    "p0 = probabilities[:,:1]\n",
    "p0[p0 > 0.57] = 1 \n",
    "p0[p0 < 0.3] = 0"
   ]
  },
  {
   "cell_type": "code",
   "execution_count": 20,
   "id": "e6b47f7e",
   "metadata": {
    "execution": {
     "iopub.execute_input": "2023-07-25T08:48:33.856452Z",
     "iopub.status.busy": "2023-07-25T08:48:33.855774Z",
     "iopub.status.idle": "2023-07-25T08:48:33.868409Z",
     "shell.execute_reply": "2023-07-25T08:48:33.867595Z"
    },
    "papermill": {
     "duration": 0.027939,
     "end_time": "2023-07-25T08:48:33.871020",
     "exception": false,
     "start_time": "2023-07-25T08:48:33.843081",
     "status": "completed"
    },
    "tags": []
   },
   "outputs": [],
   "source": [
    "submission = pd.DataFrame(test[\"Id\"], columns=[\"Id\"])\n",
    "submission[\"class_0\"] = p0\n",
    "submission[\"class_1\"] = 1 - p0\n",
    "submission.to_csv('submission.csv', index=False)"
   ]
  },
  {
   "cell_type": "code",
   "execution_count": 21,
   "id": "49a5e45f",
   "metadata": {
    "execution": {
     "iopub.execute_input": "2023-07-25T08:48:33.895373Z",
     "iopub.status.busy": "2023-07-25T08:48:33.894878Z",
     "iopub.status.idle": "2023-07-25T08:48:33.917405Z",
     "shell.execute_reply": "2023-07-25T08:48:33.916522Z"
    },
    "papermill": {
     "duration": 0.03746,
     "end_time": "2023-07-25T08:48:33.920002",
     "exception": false,
     "start_time": "2023-07-25T08:48:33.882542",
     "status": "completed"
    },
    "tags": []
   },
   "outputs": [
    {
     "data": {
      "text/html": [
       "<div>\n",
       "<style scoped>\n",
       "    .dataframe tbody tr th:only-of-type {\n",
       "        vertical-align: middle;\n",
       "    }\n",
       "\n",
       "    .dataframe tbody tr th {\n",
       "        vertical-align: top;\n",
       "    }\n",
       "\n",
       "    .dataframe thead th {\n",
       "        text-align: right;\n",
       "    }\n",
       "</style>\n",
       "<table border=\"1\" class=\"dataframe\">\n",
       "  <thead>\n",
       "    <tr style=\"text-align: right;\">\n",
       "      <th></th>\n",
       "      <th>Id</th>\n",
       "      <th>class_0</th>\n",
       "      <th>class_1</th>\n",
       "    </tr>\n",
       "  </thead>\n",
       "  <tbody>\n",
       "    <tr>\n",
       "      <th>0</th>\n",
       "      <td>00eed32682bb</td>\n",
       "      <td>0.5</td>\n",
       "      <td>0.5</td>\n",
       "    </tr>\n",
       "    <tr>\n",
       "      <th>1</th>\n",
       "      <td>010ebe33f668</td>\n",
       "      <td>0.5</td>\n",
       "      <td>0.5</td>\n",
       "    </tr>\n",
       "    <tr>\n",
       "      <th>2</th>\n",
       "      <td>02fa521e1838</td>\n",
       "      <td>0.5</td>\n",
       "      <td>0.5</td>\n",
       "    </tr>\n",
       "    <tr>\n",
       "      <th>3</th>\n",
       "      <td>040e15f562a2</td>\n",
       "      <td>0.5</td>\n",
       "      <td>0.5</td>\n",
       "    </tr>\n",
       "    <tr>\n",
       "      <th>4</th>\n",
       "      <td>046e85c7cc7f</td>\n",
       "      <td>0.5</td>\n",
       "      <td>0.5</td>\n",
       "    </tr>\n",
       "  </tbody>\n",
       "</table>\n",
       "</div>"
      ],
      "text/plain": [
       "             Id  class_0  class_1\n",
       "0  00eed32682bb      0.5      0.5\n",
       "1  010ebe33f668      0.5      0.5\n",
       "2  02fa521e1838      0.5      0.5\n",
       "3  040e15f562a2      0.5      0.5\n",
       "4  046e85c7cc7f      0.5      0.5"
      ]
     },
     "execution_count": 21,
     "metadata": {},
     "output_type": "execute_result"
    }
   ],
   "source": [
    "submission_df = pd.read_csv('submission.csv')\n",
    "submission_df"
   ]
  },
  {
   "cell_type": "code",
   "execution_count": null,
   "id": "5e3e2794",
   "metadata": {
    "papermill": {
     "duration": 0.011488,
     "end_time": "2023-07-25T08:48:33.943958",
     "exception": false,
     "start_time": "2023-07-25T08:48:33.932470",
     "status": "completed"
    },
    "tags": []
   },
   "outputs": [],
   "source": []
  }
 ],
 "metadata": {
  "kernelspec": {
   "display_name": "Python 3",
   "language": "python",
   "name": "python3"
  },
  "language_info": {
   "codemirror_mode": {
    "name": "ipython",
    "version": 3
   },
   "file_extension": ".py",
   "mimetype": "text/x-python",
   "name": "python",
   "nbconvert_exporter": "python",
   "pygments_lexer": "ipython3",
   "version": "3.10.10"
  },
  "papermill": {
   "default_parameters": {},
   "duration": 2043.037198,
   "end_time": "2023-07-25T08:48:36.348882",
   "environment_variables": {},
   "exception": null,
   "input_path": "__notebook__.ipynb",
   "output_path": "__notebook__.ipynb",
   "parameters": {},
   "start_time": "2023-07-25T08:14:33.311684",
   "version": "2.4.0"
  },
  "widgets": {
   "application/vnd.jupyter.widget-state+json": {
    "state": {
     "074612557c05482fa9096e43d7727769": {
      "model_module": "@jupyter-widgets/base",
      "model_module_version": "1.2.0",
      "model_name": "LayoutModel",
      "state": {
       "_model_module": "@jupyter-widgets/base",
       "_model_module_version": "1.2.0",
       "_model_name": "LayoutModel",
       "_view_count": null,
       "_view_module": "@jupyter-widgets/base",
       "_view_module_version": "1.2.0",
       "_view_name": "LayoutView",
       "align_content": null,
       "align_items": null,
       "align_self": null,
       "border": null,
       "bottom": null,
       "display": null,
       "flex": null,
       "flex_flow": null,
       "grid_area": null,
       "grid_auto_columns": null,
       "grid_auto_flow": null,
       "grid_auto_rows": null,
       "grid_column": null,
       "grid_gap": null,
       "grid_row": null,
       "grid_template_areas": null,
       "grid_template_columns": null,
       "grid_template_rows": null,
       "height": null,
       "justify_content": null,
       "justify_items": null,
       "left": null,
       "margin": null,
       "max_height": null,
       "max_width": null,
       "min_height": null,
       "min_width": null,
       "object_fit": null,
       "object_position": null,
       "order": null,
       "overflow": null,
       "overflow_x": null,
       "overflow_y": null,
       "padding": null,
       "right": null,
       "top": null,
       "visibility": null,
       "width": null
      }
     },
     "29d505216d994d10a569502ed05d6584": {
      "model_module": "@jupyter-widgets/controls",
      "model_module_version": "1.5.0",
      "model_name": "HBoxModel",
      "state": {
       "_dom_classes": [],
       "_model_module": "@jupyter-widgets/controls",
       "_model_module_version": "1.5.0",
       "_model_name": "HBoxModel",
       "_view_count": null,
       "_view_module": "@jupyter-widgets/controls",
       "_view_module_version": "1.5.0",
       "_view_name": "HBoxView",
       "box_style": "",
       "children": [
        "IPY_MODEL_6c3c5bedcc664b1c847c5f408063888b",
        "IPY_MODEL_8d0cdb6c11224db79b47545f01302185",
        "IPY_MODEL_a527f8a3660f40f8ab9f9b9d6c8bd9b5"
       ],
       "layout": "IPY_MODEL_38a12af0e00a465db061409602456ab0"
      }
     },
     "38a12af0e00a465db061409602456ab0": {
      "model_module": "@jupyter-widgets/base",
      "model_module_version": "1.2.0",
      "model_name": "LayoutModel",
      "state": {
       "_model_module": "@jupyter-widgets/base",
       "_model_module_version": "1.2.0",
       "_model_name": "LayoutModel",
       "_view_count": null,
       "_view_module": "@jupyter-widgets/base",
       "_view_module_version": "1.2.0",
       "_view_name": "LayoutView",
       "align_content": null,
       "align_items": null,
       "align_self": null,
       "border": null,
       "bottom": null,
       "display": null,
       "flex": null,
       "flex_flow": null,
       "grid_area": null,
       "grid_auto_columns": null,
       "grid_auto_flow": null,
       "grid_auto_rows": null,
       "grid_column": null,
       "grid_gap": null,
       "grid_row": null,
       "grid_template_areas": null,
       "grid_template_columns": null,
       "grid_template_rows": null,
       "height": null,
       "justify_content": null,
       "justify_items": null,
       "left": null,
       "margin": null,
       "max_height": null,
       "max_width": null,
       "min_height": null,
       "min_width": null,
       "object_fit": null,
       "object_position": null,
       "order": null,
       "overflow": null,
       "overflow_x": null,
       "overflow_y": null,
       "padding": null,
       "right": null,
       "top": null,
       "visibility": null,
       "width": null
      }
     },
     "3be3171e8f90461d9cc805a42a431a4d": {
      "model_module": "@jupyter-widgets/base",
      "model_module_version": "1.2.0",
      "model_name": "LayoutModel",
      "state": {
       "_model_module": "@jupyter-widgets/base",
       "_model_module_version": "1.2.0",
       "_model_name": "LayoutModel",
       "_view_count": null,
       "_view_module": "@jupyter-widgets/base",
       "_view_module_version": "1.2.0",
       "_view_name": "LayoutView",
       "align_content": null,
       "align_items": null,
       "align_self": null,
       "border": null,
       "bottom": null,
       "display": null,
       "flex": null,
       "flex_flow": null,
       "grid_area": null,
       "grid_auto_columns": null,
       "grid_auto_flow": null,
       "grid_auto_rows": null,
       "grid_column": null,
       "grid_gap": null,
       "grid_row": null,
       "grid_template_areas": null,
       "grid_template_columns": null,
       "grid_template_rows": null,
       "height": null,
       "justify_content": null,
       "justify_items": null,
       "left": null,
       "margin": null,
       "max_height": null,
       "max_width": null,
       "min_height": null,
       "min_width": null,
       "object_fit": null,
       "object_position": null,
       "order": null,
       "overflow": null,
       "overflow_x": null,
       "overflow_y": null,
       "padding": null,
       "right": null,
       "top": null,
       "visibility": null,
       "width": null
      }
     },
     "40264b908f014aa1af147b9e0b8a1a4a": {
      "model_module": "@jupyter-widgets/controls",
      "model_module_version": "1.5.0",
      "model_name": "ProgressStyleModel",
      "state": {
       "_model_module": "@jupyter-widgets/controls",
       "_model_module_version": "1.5.0",
       "_model_name": "ProgressStyleModel",
       "_view_count": null,
       "_view_module": "@jupyter-widgets/base",
       "_view_module_version": "1.2.0",
       "_view_name": "StyleView",
       "bar_color": null,
       "description_width": ""
      }
     },
     "612a8d4805b84a8f91d34dbf3506b069": {
      "model_module": "@jupyter-widgets/controls",
      "model_module_version": "1.5.0",
      "model_name": "DescriptionStyleModel",
      "state": {
       "_model_module": "@jupyter-widgets/controls",
       "_model_module_version": "1.5.0",
       "_model_name": "DescriptionStyleModel",
       "_view_count": null,
       "_view_module": "@jupyter-widgets/base",
       "_view_module_version": "1.2.0",
       "_view_name": "StyleView",
       "description_width": ""
      }
     },
     "6c3c5bedcc664b1c847c5f408063888b": {
      "model_module": "@jupyter-widgets/controls",
      "model_module_version": "1.5.0",
      "model_name": "HTMLModel",
      "state": {
       "_dom_classes": [],
       "_model_module": "@jupyter-widgets/controls",
       "_model_module_version": "1.5.0",
       "_model_name": "HTMLModel",
       "_view_count": null,
       "_view_module": "@jupyter-widgets/controls",
       "_view_module_version": "1.5.0",
       "_view_name": "HTMLView",
       "description": "",
       "description_tooltip": null,
       "layout": "IPY_MODEL_3be3171e8f90461d9cc805a42a431a4d",
       "placeholder": "​",
       "style": "IPY_MODEL_612a8d4805b84a8f91d34dbf3506b069",
       "value": "100%"
      }
     },
     "8d0cdb6c11224db79b47545f01302185": {
      "model_module": "@jupyter-widgets/controls",
      "model_module_version": "1.5.0",
      "model_name": "FloatProgressModel",
      "state": {
       "_dom_classes": [],
       "_model_module": "@jupyter-widgets/controls",
       "_model_module_version": "1.5.0",
       "_model_name": "FloatProgressModel",
       "_view_count": null,
       "_view_module": "@jupyter-widgets/controls",
       "_view_module_version": "1.5.0",
       "_view_name": "ProgressView",
       "bar_style": "success",
       "description": "",
       "description_tooltip": null,
       "layout": "IPY_MODEL_caca03acf5974d50b5ab264c7bbb317b",
       "max": 5,
       "min": 0,
       "orientation": "horizontal",
       "style": "IPY_MODEL_40264b908f014aa1af147b9e0b8a1a4a",
       "value": 5
      }
     },
     "a527f8a3660f40f8ab9f9b9d6c8bd9b5": {
      "model_module": "@jupyter-widgets/controls",
      "model_module_version": "1.5.0",
      "model_name": "HTMLModel",
      "state": {
       "_dom_classes": [],
       "_model_module": "@jupyter-widgets/controls",
       "_model_module_version": "1.5.0",
       "_model_name": "HTMLModel",
       "_view_count": null,
       "_view_module": "@jupyter-widgets/controls",
       "_view_module_version": "1.5.0",
       "_view_name": "HTMLView",
       "description": "",
       "description_tooltip": null,
       "layout": "IPY_MODEL_074612557c05482fa9096e43d7727769",
       "placeholder": "​",
       "style": "IPY_MODEL_cfb549301f134562a39a0fda2c1f34ab",
       "value": " 5/5 [28:45&lt;00:00, 345.29s/it]"
      }
     },
     "caca03acf5974d50b5ab264c7bbb317b": {
      "model_module": "@jupyter-widgets/base",
      "model_module_version": "1.2.0",
      "model_name": "LayoutModel",
      "state": {
       "_model_module": "@jupyter-widgets/base",
       "_model_module_version": "1.2.0",
       "_model_name": "LayoutModel",
       "_view_count": null,
       "_view_module": "@jupyter-widgets/base",
       "_view_module_version": "1.2.0",
       "_view_name": "LayoutView",
       "align_content": null,
       "align_items": null,
       "align_self": null,
       "border": null,
       "bottom": null,
       "display": null,
       "flex": null,
       "flex_flow": null,
       "grid_area": null,
       "grid_auto_columns": null,
       "grid_auto_flow": null,
       "grid_auto_rows": null,
       "grid_column": null,
       "grid_gap": null,
       "grid_row": null,
       "grid_template_areas": null,
       "grid_template_columns": null,
       "grid_template_rows": null,
       "height": null,
       "justify_content": null,
       "justify_items": null,
       "left": null,
       "margin": null,
       "max_height": null,
       "max_width": null,
       "min_height": null,
       "min_width": null,
       "object_fit": null,
       "object_position": null,
       "order": null,
       "overflow": null,
       "overflow_x": null,
       "overflow_y": null,
       "padding": null,
       "right": null,
       "top": null,
       "visibility": null,
       "width": null
      }
     },
     "cfb549301f134562a39a0fda2c1f34ab": {
      "model_module": "@jupyter-widgets/controls",
      "model_module_version": "1.5.0",
      "model_name": "DescriptionStyleModel",
      "state": {
       "_model_module": "@jupyter-widgets/controls",
       "_model_module_version": "1.5.0",
       "_model_name": "DescriptionStyleModel",
       "_view_count": null,
       "_view_module": "@jupyter-widgets/base",
       "_view_module_version": "1.2.0",
       "_view_name": "StyleView",
       "description_width": ""
      }
     }
    },
    "version_major": 2,
    "version_minor": 0
   }
  }
 },
 "nbformat": 4,
 "nbformat_minor": 5
}
